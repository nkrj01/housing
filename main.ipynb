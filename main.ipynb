{
 "cells": [
  {
   "cell_type": "code",
   "execution_count": 548,
   "metadata": {},
   "outputs": [],
   "source": [
    "import pandas as pd\n",
    "import numpy as np\n",
    "df = pd.read_csv(\"train.csv\")\n",
    "df = df[df[\"SalePrice\"]<480000] ### outlier removal\n",
    "df.reset_index(inplace=True, drop=True)"
   ]
  },
  {
   "cell_type": "code",
   "execution_count": 549,
   "metadata": {},
   "outputs": [
    {
     "name": "stderr",
     "output_type": "stream",
     "text": [
      "/var/folders/9n/1c29yz2x20n8pslry6jflgw00000gn/T/ipykernel_38822/2507348960.py:7: FutureWarning: The provided callable <function mean at 0x103749440> is currently using SeriesGroupBy.mean. In a future version of pandas, the provided callable will be used directly. To keep current behavior pass the string \"mean\" instead.\n",
      "  avg = df.groupby(var1)[var2].aggregate(np.mean)\n",
      "/var/folders/9n/1c29yz2x20n8pslry6jflgw00000gn/T/ipykernel_38822/2507348960.py:8: FutureWarning: The provided callable <function std at 0x103749580> is currently using SeriesGroupBy.std. In a future version of pandas, the provided callable will be used directly. To keep current behavior pass the string \"std\" instead.\n",
      "  std = df.groupby(var1)[var2].aggregate(np.std)\n"
     ]
    },
    {
     "data": {
      "text/plain": [
       "<BarContainer object of 10 artists>"
      ]
     },
     "execution_count": 549,
     "metadata": {},
     "output_type": "execute_result"
    },
    {
     "data": {
      "image/png": "[encoded data removed]",
      "text/plain": [
       "<Figure size 640x480 with 1 Axes>"
      ]
     },
     "metadata": {},
     "output_type": "display_data"
    }
   ],
   "source": [
    "# exploratory analysis\n",
    "\n",
    "from matplotlib import pyplot as plt\n",
    "var1 = \"OverallQual\"\n",
    "var2 = \"SalePrice\"\n",
    "\n",
    "avg = df.groupby(var1)[var2].aggregate(np.mean)\n",
    "std = df.groupby(var1)[var2].aggregate(np.std)\n",
    "\n",
    "plt.bar(avg.index, avg.values, yerr=std)"
   ]
  },
  {
   "cell_type": "code",
   "execution_count": 550,
   "metadata": {},
   "outputs": [],
   "source": [
    "## Defining custom error calculaation for model comparison\n",
    "\n",
    "def mse(y1, y2):\n",
    "    return np.mean(np.abs(y1 - y2) / 10000)"
   ]
  },
  {
   "cell_type": "code",
   "execution_count": 551,
   "metadata": {},
   "outputs": [],
   "source": [
    "## Applying simple imputers for imputing missing values, except Lot Frontage\n",
    "\n",
    "from sklearn.compose import ColumnTransformer\n",
    "from sklearn.impute import SimpleImputer\n",
    "import joblib\n",
    "\n",
    "df2 = df.copy(deep=True)\n",
    "\n",
    "df2.drop([\"PoolQC\", \"Alley\", \"Id\", \"MiscFeature\"], axis=1, inplace=True) # Dropping non relevant columns\n",
    "\n",
    "# Year Built is the best estimator for Garage Year Built\n",
    "index_impute = df[\"GarageYrBlt\"].isna()\n",
    "impute_values = df.loc[index_impute, \"YearBuilt\"]\n",
    "df2.loc[index_impute, \"GarageYrBlt\"] = impute_values\n",
    "\n",
    "# Variables to identify different types of paramters\n",
    "variable_type = pd.read_excel(\"variable category.xlsx\")\n",
    "var = variable_type[\"variable\"]\n",
    "type = variable_type[\"type\"]\n",
    "\n",
    "numerical = [i for i, j in zip(var, type) if j==\"N\"]\n",
    "numerical.remove(\"LotFrontage\") # removing and adding to pass through becasue LF will be predicted later\n",
    "numerical.remove(\"GarageYrBlt\") # removing because GB is already been imputed\n",
    "categorical = [i for i, j in zip(var, type) if j==\"C\"]\n",
    "ordinal = [i for i, j in zip(var, type) if j==\"O\"]\n",
    "pass_through = [\"LotFrontage\", \"MiscVal\", \"GarageYrBlt\"] # MiscVal will be added directly to final prediction\n",
    "\n",
    "numerical_imputer = SimpleImputer(strategy='mean')     # Mean imputation for numerical\n",
    "categorical_imputer = SimpleImputer(strategy='constant', fill_value='Missing')  # Fill \"Missing\" for categorical\n",
    "ordinal_imputer = SimpleImputer(strategy='median')\n",
    "\n",
    "preprocessor = ColumnTransformer([\n",
    "                ('num', numerical_imputer, numerical),\n",
    "                ('cat', categorical_imputer, categorical),\n",
    "                ('ord', ordinal_imputer, ordinal),\n",
    "                (\"pt\", \"passthrough\", pass_through)\n",
    "                ]) \n",
    "\n",
    "# Apply transformations\n",
    "df_imputed = preprocessor.fit_transform(df2)\n",
    "\n",
    "# Convert back to DataFrame with column names\n",
    "df_imputed = pd.DataFrame(df_imputed, columns=numerical + categorical + ordinal + pass_through)\n"
   ]
  },
  {
   "cell_type": "code",
   "execution_count": 552,
   "metadata": {},
   "outputs": [
    {
     "data": {
      "text/plain": [
       "['simple_imputers.joblib']"
      ]
     },
     "execution_count": 552,
     "metadata": {},
     "output_type": "execute_result"
    }
   ],
   "source": [
    "from joblib import dump, load\n",
    "dump(preprocessor, \"simple_imputers.joblib\")"
   ]
  },
  {
   "cell_type": "markdown",
   "metadata": {},
   "source": [
    "#### Building model for Predcting Lot Frontage missing values"
   ]
  },
  {
   "cell_type": "code",
   "execution_count": 553,
   "metadata": {},
   "outputs": [],
   "source": [
    "from sklearn.model_selection import train_test_split\n",
    "from sklearn.linear_model import LassoCV\n",
    "from sklearn.preprocessing import OneHotEncoder, StandardScaler\n",
    "from sklearn.compose import ColumnTransformer\n",
    "\n",
    "cols = [\"MSSubClass\", \"MSZoning\", \"LotFrontage\", \"LotArea\", \"Street\", \"LotShape\", \"LandContour\"] # using these six factors for predcting LF value\n",
    "df_frontage = df_imputed[cols]\n",
    "df_frontage_train = df_frontage[df_frontage[\"LotFrontage\"].notna()] # selecting rows with LF value for model training\n",
    "\n",
    "X = df_frontage_train.drop(\"LotFrontage\", axis=1)\n",
    "y = df_frontage_train[\"LotFrontage\"].to_numpy().astype(float)\n",
    "\n",
    "numerical = [\"LotArea\"]\n",
    "categorical = X.columns.to_list()\n",
    "categorical.remove(\"LotArea\")\n",
    "\n",
    "## Encoder for factors\n",
    "preprocessor2 = ColumnTransformer([\n",
    "    (\"onehot\", OneHotEncoder(drop=\"first\", handle_unknown=\"ignore\"), categorical),\n",
    "    (\"scalar\", StandardScaler(), numerical)\n",
    "])\n",
    "\n",
    "X_processed = preprocessor2.fit_transform(X).toarray()\n",
    "\n",
    "categorical_features = preprocessor2.named_transformers_[\"onehot\"].get_feature_names_out(categorical)\n",
    "numerical_features = numerical  # Original names for numerical columns\n",
    "total_features = list(categorical_features) + numerical_features\n",
    "\n",
    "df_processed = pd.DataFrame(X_processed, columns=total_features) # encoded factors"
   ]
  },
  {
   "cell_type": "code",
   "execution_count": 554,
   "metadata": {},
   "outputs": [
    {
     "data": {
      "text/plain": [
       "['lot_frontage_transformer.joblib']"
      ]
     },
     "execution_count": 554,
     "metadata": {},
     "output_type": "execute_result"
    }
   ],
   "source": [
    "dump(preprocessor2, \"lot_frontage_transformer.joblib\")"
   ]
  },
  {
   "cell_type": "code",
   "execution_count": 555,
   "metadata": {},
   "outputs": [],
   "source": [
    "# variable selection using Lasso Regression\n",
    "X_train, X_test, y_train, y_test = train_test_split(df_processed, y, test_size=0.01, random_state= 42, shuffle=True)\n",
    "\n",
    "lf = LassoCV(alphas = np.logspace(-3, 1, 50), cv=5, random_state=42)\n",
    "\n",
    "lf.fit(X_train, np.log(y_train))\n",
    "\n",
    "coef = list(lf.coef_)\n",
    "\n",
    "sig_var = [i for i, j in zip(total_features, list(lf.coef_)) if j!=0] # non-zero variables selected by Lasso\n",
    "\n",
    "## training Random Forest model with only significant variables\n",
    "from sklearn.ensemble import RandomForestRegressor\n",
    "from sklearn.model_selection import GridSearchCV\n",
    "\n",
    "X_train_tree = X_train[sig_var]\n",
    "X_test_tree = X_test[sig_var]\n",
    "\n",
    "lf_tree = RandomForestRegressor(random_state=42)\n",
    "\n",
    "grid = {\n",
    "    \"n_estimators\" : [100, 200, 300],\n",
    "    'max_depth': [None, 10 , 20],\n",
    "    \"min_samples_split\": [2, 5, 10]\n",
    "}\n",
    "\n",
    "search = GridSearchCV(estimator=lf_tree, param_grid=grid, cv=5, scoring=\"neg_mean_squared_error\")\n",
    "\n",
    "search.fit(X_train_tree, y_train)\n",
    "\n",
    "lf_tree_best = search.best_estimator_\n",
    "\n",
    "yhat = lf_tree_best.predict(X_test_tree)\n",
    "\n",
    "\"\"\"plt.scatter(yhat, y_test)\n",
    "plt.xlim(0, 350)\n",
    "plt.ylim(0, 350)\"\"\"\n",
    "\n",
    "# imputing LF value using the model\n",
    "\n",
    "index_impute = df_imputed[\"LotFrontage\"].isna()\n",
    "\n",
    "X_impute = df_imputed[index_impute]\n",
    "\n",
    "X_short = X_impute[cols]\n",
    "\n",
    "X_processed_short = preprocessor2.transform(X_short).toarray()\n",
    "\n",
    "df_processed_impute = pd.DataFrame(X_processed_short, columns=total_features)\n",
    "\n",
    "df_processed_impute = df_processed_impute[sig_var]\n",
    "\n",
    "y_pred = lf_tree_best.predict(df_processed_impute)\n",
    "\n",
    "df_complete = df_imputed.copy(deep=True)\n",
    "\n",
    "df_complete.loc[index_impute, \"LotFrontage\"] = y_pred\n",
    "\n",
    "df_complete.reset_index(drop=True)\n",
    "\n",
    "df_complete[\"SalePrice\"] = df[\"SalePrice\"] # final Data with no missing values"
   ]
  },
  {
   "cell_type": "code",
   "execution_count": 556,
   "metadata": {},
   "outputs": [],
   "source": [
    "# saving both the model and the significant variables\n",
    "\n",
    "joblib.dump(lf_tree_best, \"imputation.joblib\")\n",
    "\n",
    "df_sig_var = pd.DataFrame(data=sig_var, columns=[\"sig_var\"])\n",
    "df_sig_var.to_excel(\"sig_var_impute.xlsx\")"
   ]
  },
  {
   "cell_type": "markdown",
   "metadata": {},
   "source": [
    "#### Model for predicting Sale Price"
   ]
  },
  {
   "cell_type": "code",
   "execution_count": 557,
   "metadata": {},
   "outputs": [],
   "source": [
    "from sklearn.model_selection import train_test_split\n",
    "from sklearn.linear_model import LassoCV\n",
    "from sklearn.preprocessing import OneHotEncoder, StandardScaler, OrdinalEncoder\n",
    "from sklearn.compose import ColumnTransformer\n",
    "\n",
    "## Encoder for encoding and scaling all the factors\n",
    "\n",
    "variable_type = pd.read_excel(\"variable category.xlsx\")\n",
    "\n",
    "var = variable_type[\"variable\"]\n",
    "type = variable_type[\"type\"]\n",
    "\n",
    "numerical = [i for i, j in zip(var, type) if j==\"N\"]\n",
    "categorical = [i for i, j in zip(var, type) if j==\"C\"]\n",
    "ordinal = [i for i, j in zip(var, type) if j==\"O\"]\n",
    "pass_through = [i for i, j in zip(var, type) if j==\"PT\"]\n",
    "\n",
    "df_complete2 = df_complete.copy(deep=True)\n",
    "\n",
    "X = df_complete2.drop(\"SalePrice\", axis=1)\n",
    "y = df_complete2[\"SalePrice\"].to_numpy()\n",
    "\n",
    "y = np.log(y) # take log to make it more normally distributed\n",
    "mean = np.mean(y)\n",
    "std = np.std(y)\n",
    "\n",
    "y = (y-mean)/std # scaling the response variable\n",
    "\n",
    "preprocessor3 = ColumnTransformer([\n",
    "    (\"onehot\", OneHotEncoder(drop=\"first\", handle_unknown=\"ignore\"), categorical),\n",
    "    (\"oe\", OrdinalEncoder(handle_unknown=\"use_encoded_value\", unknown_value=-1), ordinal),\n",
    "    (\"scalar\", StandardScaler(), numerical),\n",
    "    (\"passthrough\", \"passthrough\", pass_through) # only Misc Val is Pass through.\n",
    "])\n",
    "\n",
    "X_processed = preprocessor3.fit_transform(X).toarray()\n",
    "\n",
    "categorical_features = preprocessor3.named_transformers_[\"onehot\"].get_feature_names_out(categorical)\n",
    "ordinal_features = preprocessor3.named_transformers_[\"oe\"].get_feature_names_out(ordinal)\n",
    "numerical_features = numerical  # Original names for numerical columns\n",
    "pass_through_features = pass_through\n",
    "all_features = list(categorical_features) + list(ordinal_features) + numerical_features + pass_through_features\n",
    "\n",
    "df_processed = pd.DataFrame(X_processed, columns=all_features) # final dataframe with all the factors properly encoded or scaled"
   ]
  },
  {
   "cell_type": "code",
   "execution_count": 558,
   "metadata": {},
   "outputs": [
    {
     "data": {
      "text/plain": [
       "['sale_price_transformer.joblib']"
      ]
     },
     "execution_count": 558,
     "metadata": {},
     "output_type": "execute_result"
    }
   ],
   "source": [
    "# save the encoder model\n",
    "from joblib import dump\n",
    "dump(preprocessor3, \"sale_price_transformer.joblib\")"
   ]
  },
  {
   "cell_type": "code",
   "execution_count": 559,
   "metadata": {},
   "outputs": [
    {
     "name": "stderr",
     "output_type": "stream",
     "text": [
      "/Users/a14702/Library/CloudStorage/OneDrive-GeorgiaInstituteofTechnology/Desktop/new_env/new_env/lib/python3.12/site-packages/sklearn/linear_model/_coordinate_descent.py:681: ConvergenceWarning: Objective did not converge. You might want to increase the number of iterations. Duality gap: 27.71355036980227, tolerance: 0.11567574604532879\n",
      "  model = cd_fast.enet_coordinate_descent_gram(\n",
      "/Users/a14702/Library/CloudStorage/OneDrive-GeorgiaInstituteofTechnology/Desktop/new_env/new_env/lib/python3.12/site-packages/sklearn/linear_model/_coordinate_descent.py:681: ConvergenceWarning: Objective did not converge. You might want to increase the number of iterations. Duality gap: 30.582407182628288, tolerance: 0.11567574604532879\n",
      "  model = cd_fast.enet_coordinate_descent_gram(\n",
      "/Users/a14702/Library/CloudStorage/OneDrive-GeorgiaInstituteofTechnology/Desktop/new_env/new_env/lib/python3.12/site-packages/sklearn/linear_model/_coordinate_descent.py:681: ConvergenceWarning: Objective did not converge. You might want to increase the number of iterations. Duality gap: 8.94480613265782, tolerance: 0.11006808741992159\n",
      "  model = cd_fast.enet_coordinate_descent_gram(\n",
      "/Users/a14702/Library/CloudStorage/OneDrive-GeorgiaInstituteofTechnology/Desktop/new_env/new_env/lib/python3.12/site-packages/sklearn/linear_model/_coordinate_descent.py:681: ConvergenceWarning: Objective did not converge. You might want to increase the number of iterations. Duality gap: 10.856320015449082, tolerance: 0.11006808741992159\n",
      "  model = cd_fast.enet_coordinate_descent_gram(\n",
      "/Users/a14702/Library/CloudStorage/OneDrive-GeorgiaInstituteofTechnology/Desktop/new_env/new_env/lib/python3.12/site-packages/sklearn/linear_model/_coordinate_descent.py:681: ConvergenceWarning: Objective did not converge. You might want to increase the number of iterations. Duality gap: 10.256391042685962, tolerance: 0.11716035816709414\n",
      "  model = cd_fast.enet_coordinate_descent_gram(\n",
      "/Users/a14702/Library/CloudStorage/OneDrive-GeorgiaInstituteofTechnology/Desktop/new_env/new_env/lib/python3.12/site-packages/sklearn/linear_model/_coordinate_descent.py:681: ConvergenceWarning: Objective did not converge. You might want to increase the number of iterations. Duality gap: 15.946079706915658, tolerance: 0.11716035816709414\n",
      "  model = cd_fast.enet_coordinate_descent_gram(\n",
      "/Users/a14702/Library/CloudStorage/OneDrive-GeorgiaInstituteofTechnology/Desktop/new_env/new_env/lib/python3.12/site-packages/sklearn/linear_model/_coordinate_descent.py:681: ConvergenceWarning: Objective did not converge. You might want to increase the number of iterations. Duality gap: 0.23134863275397066, tolerance: 0.11496805063813355\n",
      "  model = cd_fast.enet_coordinate_descent_gram(\n",
      "/Users/a14702/Library/CloudStorage/OneDrive-GeorgiaInstituteofTechnology/Desktop/new_env/new_env/lib/python3.12/site-packages/sklearn/linear_model/_coordinate_descent.py:681: ConvergenceWarning: Objective did not converge. You might want to increase the number of iterations. Duality gap: 4.897521940918558, tolerance: 0.11496805063813355\n",
      "  model = cd_fast.enet_coordinate_descent_gram(\n",
      "/Users/a14702/Library/CloudStorage/OneDrive-GeorgiaInstituteofTechnology/Desktop/new_env/new_env/lib/python3.12/site-packages/sklearn/linear_model/_coordinate_descent.py:681: ConvergenceWarning: Objective did not converge. You might want to increase the number of iterations. Duality gap: 3.1174829759576426, tolerance: 0.11690744789248407\n",
      "  model = cd_fast.enet_coordinate_descent_gram(\n",
      "/Users/a14702/Library/CloudStorage/OneDrive-GeorgiaInstituteofTechnology/Desktop/new_env/new_env/lib/python3.12/site-packages/sklearn/linear_model/_coordinate_descent.py:681: ConvergenceWarning: Objective did not converge. You might want to increase the number of iterations. Duality gap: 13.870973646570143, tolerance: 0.11690744789248407\n",
      "  model = cd_fast.enet_coordinate_descent_gram(\n",
      "/Users/a14702/Library/CloudStorage/OneDrive-GeorgiaInstituteofTechnology/Desktop/new_env/new_env/lib/python3.12/site-packages/sklearn/linear_model/_coordinate_descent.py:681: ConvergenceWarning: Objective did not converge. You might want to increase the number of iterations. Duality gap: 22.35618889126227, tolerance: 0.11567574604532879\n",
      "  model = cd_fast.enet_coordinate_descent_gram(\n",
      "/Users/a14702/Library/CloudStorage/OneDrive-GeorgiaInstituteofTechnology/Desktop/new_env/new_env/lib/python3.12/site-packages/sklearn/linear_model/_coordinate_descent.py:681: ConvergenceWarning: Objective did not converge. You might want to increase the number of iterations. Duality gap: 27.244474574417282, tolerance: 0.11567574604532879\n",
      "  model = cd_fast.enet_coordinate_descent_gram(\n",
      "/Users/a14702/Library/CloudStorage/OneDrive-GeorgiaInstituteofTechnology/Desktop/new_env/new_env/lib/python3.12/site-packages/sklearn/linear_model/_coordinate_descent.py:681: ConvergenceWarning: Objective did not converge. You might want to increase the number of iterations. Duality gap: 3.76945964661806, tolerance: 0.11006808741992159\n",
      "  model = cd_fast.enet_coordinate_descent_gram(\n",
      "/Users/a14702/Library/CloudStorage/OneDrive-GeorgiaInstituteofTechnology/Desktop/new_env/new_env/lib/python3.12/site-packages/sklearn/linear_model/_coordinate_descent.py:681: ConvergenceWarning: Objective did not converge. You might want to increase the number of iterations. Duality gap: 4.625073241032986, tolerance: 0.11006808741992159\n",
      "  model = cd_fast.enet_coordinate_descent_gram(\n",
      "/Users/a14702/Library/CloudStorage/OneDrive-GeorgiaInstituteofTechnology/Desktop/new_env/new_env/lib/python3.12/site-packages/sklearn/linear_model/_coordinate_descent.py:681: ConvergenceWarning: Objective did not converge. You might want to increase the number of iterations. Duality gap: 4.2323169483861705, tolerance: 0.11716035816709414\n",
      "  model = cd_fast.enet_coordinate_descent_gram(\n",
      "/Users/a14702/Library/CloudStorage/OneDrive-GeorgiaInstituteofTechnology/Desktop/new_env/new_env/lib/python3.12/site-packages/sklearn/linear_model/_coordinate_descent.py:681: ConvergenceWarning: Objective did not converge. You might want to increase the number of iterations. Duality gap: 9.455958404310127, tolerance: 0.11716035816709414\n",
      "  model = cd_fast.enet_coordinate_descent_gram(\n",
      "/Users/a14702/Library/CloudStorage/OneDrive-GeorgiaInstituteofTechnology/Desktop/new_env/new_env/lib/python3.12/site-packages/sklearn/linear_model/_coordinate_descent.py:681: ConvergenceWarning: Objective did not converge. You might want to increase the number of iterations. Duality gap: 1.4371334543369088, tolerance: 0.11496805063813355\n",
      "  model = cd_fast.enet_coordinate_descent_gram(\n",
      "/Users/a14702/Library/CloudStorage/OneDrive-GeorgiaInstituteofTechnology/Desktop/new_env/new_env/lib/python3.12/site-packages/sklearn/linear_model/_coordinate_descent.py:681: ConvergenceWarning: Objective did not converge. You might want to increase the number of iterations. Duality gap: 3.1978041185592474, tolerance: 0.11690744789248407\n",
      "  model = cd_fast.enet_coordinate_descent_gram(\n",
      "/Users/a14702/Library/CloudStorage/OneDrive-GeorgiaInstituteofTechnology/Desktop/new_env/new_env/lib/python3.12/site-packages/sklearn/linear_model/_coordinate_descent.py:681: ConvergenceWarning: Objective did not converge. You might want to increase the number of iterations. Duality gap: 7.550471815778188, tolerance: 0.11690744789248407\n",
      "  model = cd_fast.enet_coordinate_descent_gram(\n",
      "/Users/a14702/Library/CloudStorage/OneDrive-GeorgiaInstituteofTechnology/Desktop/new_env/new_env/lib/python3.12/site-packages/sklearn/linear_model/_coordinate_descent.py:681: ConvergenceWarning: Objective did not converge. You might want to increase the number of iterations. Duality gap: 18.85964946075892, tolerance: 0.11567574604532879\n",
      "  model = cd_fast.enet_coordinate_descent_gram(\n",
      "/Users/a14702/Library/CloudStorage/OneDrive-GeorgiaInstituteofTechnology/Desktop/new_env/new_env/lib/python3.12/site-packages/sklearn/linear_model/_coordinate_descent.py:681: ConvergenceWarning: Objective did not converge. You might want to increase the number of iterations. Duality gap: 24.122714646919864, tolerance: 0.11567574604532879\n",
      "  model = cd_fast.enet_coordinate_descent_gram(\n",
      "/Users/a14702/Library/CloudStorage/OneDrive-GeorgiaInstituteofTechnology/Desktop/new_env/new_env/lib/python3.12/site-packages/sklearn/linear_model/_coordinate_descent.py:681: ConvergenceWarning: Objective did not converge. You might want to increase the number of iterations. Duality gap: 1.8402651179496914, tolerance: 0.11006808741992159\n",
      "  model = cd_fast.enet_coordinate_descent_gram(\n",
      "/Users/a14702/Library/CloudStorage/OneDrive-GeorgiaInstituteofTechnology/Desktop/new_env/new_env/lib/python3.12/site-packages/sklearn/linear_model/_coordinate_descent.py:681: ConvergenceWarning: Objective did not converge. You might want to increase the number of iterations. Duality gap: 3.3563890126470213, tolerance: 0.11006808741992159\n",
      "  model = cd_fast.enet_coordinate_descent_gram(\n",
      "/Users/a14702/Library/CloudStorage/OneDrive-GeorgiaInstituteofTechnology/Desktop/new_env/new_env/lib/python3.12/site-packages/sklearn/linear_model/_coordinate_descent.py:681: ConvergenceWarning: Objective did not converge. You might want to increase the number of iterations. Duality gap: 1.849375814630129, tolerance: 0.11716035816709414\n",
      "  model = cd_fast.enet_coordinate_descent_gram(\n",
      "/Users/a14702/Library/CloudStorage/OneDrive-GeorgiaInstituteofTechnology/Desktop/new_env/new_env/lib/python3.12/site-packages/sklearn/linear_model/_coordinate_descent.py:681: ConvergenceWarning: Objective did not converge. You might want to increase the number of iterations. Duality gap: 7.025916709605436, tolerance: 0.11716035816709414\n",
      "  model = cd_fast.enet_coordinate_descent_gram(\n",
      "/Users/a14702/Library/CloudStorage/OneDrive-GeorgiaInstituteofTechnology/Desktop/new_env/new_env/lib/python3.12/site-packages/sklearn/linear_model/_coordinate_descent.py:681: ConvergenceWarning: Objective did not converge. You might want to increase the number of iterations. Duality gap: 0.47285866224574846, tolerance: 0.11496805063813355\n",
      "  model = cd_fast.enet_coordinate_descent_gram(\n",
      "/Users/a14702/Library/CloudStorage/OneDrive-GeorgiaInstituteofTechnology/Desktop/new_env/new_env/lib/python3.12/site-packages/sklearn/linear_model/_coordinate_descent.py:681: ConvergenceWarning: Objective did not converge. You might want to increase the number of iterations. Duality gap: 3.000452404246211, tolerance: 0.11690744789248407\n",
      "  model = cd_fast.enet_coordinate_descent_gram(\n",
      "/Users/a14702/Library/CloudStorage/OneDrive-GeorgiaInstituteofTechnology/Desktop/new_env/new_env/lib/python3.12/site-packages/sklearn/linear_model/_coordinate_descent.py:681: ConvergenceWarning: Objective did not converge. You might want to increase the number of iterations. Duality gap: 5.4305249884342, tolerance: 0.11690744789248407\n",
      "  model = cd_fast.enet_coordinate_descent_gram(\n",
      "/Users/a14702/Library/CloudStorage/OneDrive-GeorgiaInstituteofTechnology/Desktop/new_env/new_env/lib/python3.12/site-packages/sklearn/linear_model/_coordinate_descent.py:681: ConvergenceWarning: Objective did not converge. You might want to increase the number of iterations. Duality gap: 16.048669375267274, tolerance: 0.11567574604532879\n",
      "  model = cd_fast.enet_coordinate_descent_gram(\n",
      "/Users/a14702/Library/CloudStorage/OneDrive-GeorgiaInstituteofTechnology/Desktop/new_env/new_env/lib/python3.12/site-packages/sklearn/linear_model/_coordinate_descent.py:681: ConvergenceWarning: Objective did not converge. You might want to increase the number of iterations. Duality gap: 21.068529268623024, tolerance: 0.11567574604532879\n",
      "  model = cd_fast.enet_coordinate_descent_gram(\n",
      "/Users/a14702/Library/CloudStorage/OneDrive-GeorgiaInstituteofTechnology/Desktop/new_env/new_env/lib/python3.12/site-packages/sklearn/linear_model/_coordinate_descent.py:681: ConvergenceWarning: Objective did not converge. You might want to increase the number of iterations. Duality gap: 0.8710761259441, tolerance: 0.11006808741992159\n",
      "  model = cd_fast.enet_coordinate_descent_gram(\n",
      "/Users/a14702/Library/CloudStorage/OneDrive-GeorgiaInstituteofTechnology/Desktop/new_env/new_env/lib/python3.12/site-packages/sklearn/linear_model/_coordinate_descent.py:681: ConvergenceWarning: Objective did not converge. You might want to increase the number of iterations. Duality gap: 3.034341566113241, tolerance: 0.11006808741992159\n",
      "  model = cd_fast.enet_coordinate_descent_gram(\n",
      "/Users/a14702/Library/CloudStorage/OneDrive-GeorgiaInstituteofTechnology/Desktop/new_env/new_env/lib/python3.12/site-packages/sklearn/linear_model/_coordinate_descent.py:681: ConvergenceWarning: Objective did not converge. You might want to increase the number of iterations. Duality gap: 1.0601339291294352, tolerance: 0.11716035816709414\n",
      "  model = cd_fast.enet_coordinate_descent_gram(\n",
      "/Users/a14702/Library/CloudStorage/OneDrive-GeorgiaInstituteofTechnology/Desktop/new_env/new_env/lib/python3.12/site-packages/sklearn/linear_model/_coordinate_descent.py:681: ConvergenceWarning: Objective did not converge. You might want to increase the number of iterations. Duality gap: 5.746631483695822, tolerance: 0.11716035816709414\n",
      "  model = cd_fast.enet_coordinate_descent_gram(\n",
      "/Users/a14702/Library/CloudStorage/OneDrive-GeorgiaInstituteofTechnology/Desktop/new_env/new_env/lib/python3.12/site-packages/sklearn/linear_model/_coordinate_descent.py:681: ConvergenceWarning: Objective did not converge. You might want to increase the number of iterations. Duality gap: 3.8255370068971715, tolerance: 0.11690744789248407\n",
      "  model = cd_fast.enet_coordinate_descent_gram(\n",
      "/Users/a14702/Library/CloudStorage/OneDrive-GeorgiaInstituteofTechnology/Desktop/new_env/new_env/lib/python3.12/site-packages/sklearn/linear_model/_coordinate_descent.py:681: ConvergenceWarning: Objective did not converge. You might want to increase the number of iterations. Duality gap: 11.818759574350729, tolerance: 0.11567574604532879\n",
      "  model = cd_fast.enet_coordinate_descent_gram(\n",
      "/Users/a14702/Library/CloudStorage/OneDrive-GeorgiaInstituteofTechnology/Desktop/new_env/new_env/lib/python3.12/site-packages/sklearn/linear_model/_coordinate_descent.py:681: ConvergenceWarning: Objective did not converge. You might want to increase the number of iterations. Duality gap: 17.22541273178493, tolerance: 0.11567574604532879\n",
      "  model = cd_fast.enet_coordinate_descent_gram(\n",
      "/Users/a14702/Library/CloudStorage/OneDrive-GeorgiaInstituteofTechnology/Desktop/new_env/new_env/lib/python3.12/site-packages/sklearn/linear_model/_coordinate_descent.py:681: ConvergenceWarning: Objective did not converge. You might want to increase the number of iterations. Duality gap: 0.4947772434218862, tolerance: 0.11006808741992159\n",
      "  model = cd_fast.enet_coordinate_descent_gram(\n",
      "/Users/a14702/Library/CloudStorage/OneDrive-GeorgiaInstituteofTechnology/Desktop/new_env/new_env/lib/python3.12/site-packages/sklearn/linear_model/_coordinate_descent.py:681: ConvergenceWarning: Objective did not converge. You might want to increase the number of iterations. Duality gap: 2.9210201488344296, tolerance: 0.11006808741992159\n",
      "  model = cd_fast.enet_coordinate_descent_gram(\n",
      "/Users/a14702/Library/CloudStorage/OneDrive-GeorgiaInstituteofTechnology/Desktop/new_env/new_env/lib/python3.12/site-packages/sklearn/linear_model/_coordinate_descent.py:681: ConvergenceWarning: Objective did not converge. You might want to increase the number of iterations. Duality gap: 0.6891155512723088, tolerance: 0.11716035816709414\n",
      "  model = cd_fast.enet_coordinate_descent_gram(\n",
      "/Users/a14702/Library/CloudStorage/OneDrive-GeorgiaInstituteofTechnology/Desktop/new_env/new_env/lib/python3.12/site-packages/sklearn/linear_model/_coordinate_descent.py:681: ConvergenceWarning: Objective did not converge. You might want to increase the number of iterations. Duality gap: 5.034288532987858, tolerance: 0.11716035816709414\n",
      "  model = cd_fast.enet_coordinate_descent_gram(\n",
      "/Users/a14702/Library/CloudStorage/OneDrive-GeorgiaInstituteofTechnology/Desktop/new_env/new_env/lib/python3.12/site-packages/sklearn/linear_model/_coordinate_descent.py:681: ConvergenceWarning: Objective did not converge. You might want to increase the number of iterations. Duality gap: 3.3869377233592033, tolerance: 0.11690744789248407\n",
      "  model = cd_fast.enet_coordinate_descent_gram(\n",
      "/Users/a14702/Library/CloudStorage/OneDrive-GeorgiaInstituteofTechnology/Desktop/new_env/new_env/lib/python3.12/site-packages/sklearn/linear_model/_coordinate_descent.py:681: ConvergenceWarning: Objective did not converge. You might want to increase the number of iterations. Duality gap: 6.754588277399748, tolerance: 0.11567574604532879\n",
      "  model = cd_fast.enet_coordinate_descent_gram(\n",
      "/Users/a14702/Library/CloudStorage/OneDrive-GeorgiaInstituteofTechnology/Desktop/new_env/new_env/lib/python3.12/site-packages/sklearn/linear_model/_coordinate_descent.py:681: ConvergenceWarning: Objective did not converge. You might want to increase the number of iterations. Duality gap: 12.39571597658546, tolerance: 0.11567574604532879\n",
      "  model = cd_fast.enet_coordinate_descent_gram(\n",
      "/Users/a14702/Library/CloudStorage/OneDrive-GeorgiaInstituteofTechnology/Desktop/new_env/new_env/lib/python3.12/site-packages/sklearn/linear_model/_coordinate_descent.py:681: ConvergenceWarning: Objective did not converge. You might want to increase the number of iterations. Duality gap: 0.3395508596960113, tolerance: 0.11006808741992159\n",
      "  model = cd_fast.enet_coordinate_descent_gram(\n",
      "/Users/a14702/Library/CloudStorage/OneDrive-GeorgiaInstituteofTechnology/Desktop/new_env/new_env/lib/python3.12/site-packages/sklearn/linear_model/_coordinate_descent.py:681: ConvergenceWarning: Objective did not converge. You might want to increase the number of iterations. Duality gap: 2.9186247224415993, tolerance: 0.11006808741992159\n",
      "  model = cd_fast.enet_coordinate_descent_gram(\n",
      "/Users/a14702/Library/CloudStorage/OneDrive-GeorgiaInstituteofTechnology/Desktop/new_env/new_env/lib/python3.12/site-packages/sklearn/linear_model/_coordinate_descent.py:681: ConvergenceWarning: Objective did not converge. You might want to increase the number of iterations. Duality gap: 0.11735968460666868, tolerance: 0.11716035816709414\n",
      "  model = cd_fast.enet_coordinate_descent_gram(\n",
      "/Users/a14702/Library/CloudStorage/OneDrive-GeorgiaInstituteofTechnology/Desktop/new_env/new_env/lib/python3.12/site-packages/sklearn/linear_model/_coordinate_descent.py:681: ConvergenceWarning: Objective did not converge. You might want to increase the number of iterations. Duality gap: 0.4933454356748044, tolerance: 0.11716035816709414\n",
      "  model = cd_fast.enet_coordinate_descent_gram(\n",
      "/Users/a14702/Library/CloudStorage/OneDrive-GeorgiaInstituteofTechnology/Desktop/new_env/new_env/lib/python3.12/site-packages/sklearn/linear_model/_coordinate_descent.py:681: ConvergenceWarning: Objective did not converge. You might want to increase the number of iterations. Duality gap: 4.639245121835415, tolerance: 0.11716035816709414\n",
      "  model = cd_fast.enet_coordinate_descent_gram(\n",
      "/Users/a14702/Library/CloudStorage/OneDrive-GeorgiaInstituteofTechnology/Desktop/new_env/new_env/lib/python3.12/site-packages/sklearn/linear_model/_coordinate_descent.py:681: ConvergenceWarning: Objective did not converge. You might want to increase the number of iterations. Duality gap: 2.75160503359848, tolerance: 0.11690744789248407\n",
      "  model = cd_fast.enet_coordinate_descent_gram(\n",
      "/Users/a14702/Library/CloudStorage/OneDrive-GeorgiaInstituteofTechnology/Desktop/new_env/new_env/lib/python3.12/site-packages/sklearn/linear_model/_coordinate_descent.py:681: ConvergenceWarning: Objective did not converge. You might want to increase the number of iterations. Duality gap: 0.9088702634764729, tolerance: 0.11567574604532879\n",
      "  model = cd_fast.enet_coordinate_descent_gram(\n",
      "/Users/a14702/Library/CloudStorage/OneDrive-GeorgiaInstituteofTechnology/Desktop/new_env/new_env/lib/python3.12/site-packages/sklearn/linear_model/_coordinate_descent.py:681: ConvergenceWarning: Objective did not converge. You might want to increase the number of iterations. Duality gap: 5.7014553801056636, tolerance: 0.11567574604532879\n",
      "  model = cd_fast.enet_coordinate_descent_gram(\n",
      "/Users/a14702/Library/CloudStorage/OneDrive-GeorgiaInstituteofTechnology/Desktop/new_env/new_env/lib/python3.12/site-packages/sklearn/linear_model/_coordinate_descent.py:681: ConvergenceWarning: Objective did not converge. You might want to increase the number of iterations. Duality gap: 0.2248855737956248, tolerance: 0.11006808741992159\n",
      "  model = cd_fast.enet_coordinate_descent_gram(\n",
      "/Users/a14702/Library/CloudStorage/OneDrive-GeorgiaInstituteofTechnology/Desktop/new_env/new_env/lib/python3.12/site-packages/sklearn/linear_model/_coordinate_descent.py:681: ConvergenceWarning: Objective did not converge. You might want to increase the number of iterations. Duality gap: 2.9350129257692643, tolerance: 0.11006808741992159\n",
      "  model = cd_fast.enet_coordinate_descent_gram(\n",
      "/Users/a14702/Library/CloudStorage/OneDrive-GeorgiaInstituteofTechnology/Desktop/new_env/new_env/lib/python3.12/site-packages/sklearn/linear_model/_coordinate_descent.py:681: ConvergenceWarning: Objective did not converge. You might want to increase the number of iterations. Duality gap: 0.14699917681467412, tolerance: 0.11716035816709414\n",
      "  model = cd_fast.enet_coordinate_descent_gram(\n",
      "/Users/a14702/Library/CloudStorage/OneDrive-GeorgiaInstituteofTechnology/Desktop/new_env/new_env/lib/python3.12/site-packages/sklearn/linear_model/_coordinate_descent.py:681: ConvergenceWarning: Objective did not converge. You might want to increase the number of iterations. Duality gap: 0.3201135461645066, tolerance: 0.11716035816709414\n",
      "  model = cd_fast.enet_coordinate_descent_gram(\n",
      "/Users/a14702/Library/CloudStorage/OneDrive-GeorgiaInstituteofTechnology/Desktop/new_env/new_env/lib/python3.12/site-packages/sklearn/linear_model/_coordinate_descent.py:681: ConvergenceWarning: Objective did not converge. You might want to increase the number of iterations. Duality gap: 4.1232238725561245, tolerance: 0.11716035816709414\n",
      "  model = cd_fast.enet_coordinate_descent_gram(\n",
      "/Users/a14702/Library/CloudStorage/OneDrive-GeorgiaInstituteofTechnology/Desktop/new_env/new_env/lib/python3.12/site-packages/sklearn/linear_model/_coordinate_descent.py:681: ConvergenceWarning: Objective did not converge. You might want to increase the number of iterations. Duality gap: 0.13115060513924703, tolerance: 0.11496805063813355\n",
      "  model = cd_fast.enet_coordinate_descent_gram(\n",
      "/Users/a14702/Library/CloudStorage/OneDrive-GeorgiaInstituteofTechnology/Desktop/new_env/new_env/lib/python3.12/site-packages/sklearn/linear_model/_coordinate_descent.py:681: ConvergenceWarning: Objective did not converge. You might want to increase the number of iterations. Duality gap: 1.0597485464095087, tolerance: 0.11690744789248407\n",
      "  model = cd_fast.enet_coordinate_descent_gram(\n",
      "/Users/a14702/Library/CloudStorage/OneDrive-GeorgiaInstituteofTechnology/Desktop/new_env/new_env/lib/python3.12/site-packages/sklearn/linear_model/_coordinate_descent.py:681: ConvergenceWarning: Objective did not converge. You might want to increase the number of iterations. Duality gap: 0.1336928889250828, tolerance: 0.11567574604532879\n",
      "  model = cd_fast.enet_coordinate_descent_gram(\n",
      "/Users/a14702/Library/CloudStorage/OneDrive-GeorgiaInstituteofTechnology/Desktop/new_env/new_env/lib/python3.12/site-packages/sklearn/linear_model/_coordinate_descent.py:681: ConvergenceWarning: Objective did not converge. You might want to increase the number of iterations. Duality gap: 3.488980037573903, tolerance: 0.11567574604532879\n",
      "  model = cd_fast.enet_coordinate_descent_gram(\n",
      "/Users/a14702/Library/CloudStorage/OneDrive-GeorgiaInstituteofTechnology/Desktop/new_env/new_env/lib/python3.12/site-packages/sklearn/linear_model/_coordinate_descent.py:681: ConvergenceWarning: Objective did not converge. You might want to increase the number of iterations. Duality gap: 0.12210088016092158, tolerance: 0.11006808741992159\n",
      "  model = cd_fast.enet_coordinate_descent_gram(\n",
      "/Users/a14702/Library/CloudStorage/OneDrive-GeorgiaInstituteofTechnology/Desktop/new_env/new_env/lib/python3.12/site-packages/sklearn/linear_model/_coordinate_descent.py:681: ConvergenceWarning: Objective did not converge. You might want to increase the number of iterations. Duality gap: 2.9373613773421496, tolerance: 0.11006808741992159\n",
      "  model = cd_fast.enet_coordinate_descent_gram(\n",
      "/Users/a14702/Library/CloudStorage/OneDrive-GeorgiaInstituteofTechnology/Desktop/new_env/new_env/lib/python3.12/site-packages/sklearn/linear_model/_coordinate_descent.py:681: ConvergenceWarning: Objective did not converge. You might want to increase the number of iterations. Duality gap: 0.149741860797306, tolerance: 0.11716035816709414\n",
      "  model = cd_fast.enet_coordinate_descent_gram(\n",
      "/Users/a14702/Library/CloudStorage/OneDrive-GeorgiaInstituteofTechnology/Desktop/new_env/new_env/lib/python3.12/site-packages/sklearn/linear_model/_coordinate_descent.py:681: ConvergenceWarning: Objective did not converge. You might want to increase the number of iterations. Duality gap: 0.18779887272419415, tolerance: 0.11716035816709414\n",
      "  model = cd_fast.enet_coordinate_descent_gram(\n",
      "/Users/a14702/Library/CloudStorage/OneDrive-GeorgiaInstituteofTechnology/Desktop/new_env/new_env/lib/python3.12/site-packages/sklearn/linear_model/_coordinate_descent.py:681: ConvergenceWarning: Objective did not converge. You might want to increase the number of iterations. Duality gap: 3.5745657124362182, tolerance: 0.11716035816709414\n",
      "  model = cd_fast.enet_coordinate_descent_gram(\n",
      "/Users/a14702/Library/CloudStorage/OneDrive-GeorgiaInstituteofTechnology/Desktop/new_env/new_env/lib/python3.12/site-packages/sklearn/linear_model/_coordinate_descent.py:681: ConvergenceWarning: Objective did not converge. You might want to increase the number of iterations. Duality gap: 0.16877480483106666, tolerance: 0.11496805063813355\n",
      "  model = cd_fast.enet_coordinate_descent_gram(\n",
      "/Users/a14702/Library/CloudStorage/OneDrive-GeorgiaInstituteofTechnology/Desktop/new_env/new_env/lib/python3.12/site-packages/sklearn/linear_model/_coordinate_descent.py:681: ConvergenceWarning: Objective did not converge. You might want to increase the number of iterations. Duality gap: 1.366963380743151, tolerance: 0.11690744789248407\n",
      "  model = cd_fast.enet_coordinate_descent_gram(\n",
      "/Users/a14702/Library/CloudStorage/OneDrive-GeorgiaInstituteofTechnology/Desktop/new_env/new_env/lib/python3.12/site-packages/sklearn/linear_model/_coordinate_descent.py:681: ConvergenceWarning: Objective did not converge. You might want to increase the number of iterations. Duality gap: 3.164381536558146, tolerance: 0.11567574604532879\n",
      "  model = cd_fast.enet_coordinate_descent_gram(\n",
      "/Users/a14702/Library/CloudStorage/OneDrive-GeorgiaInstituteofTechnology/Desktop/new_env/new_env/lib/python3.12/site-packages/sklearn/linear_model/_coordinate_descent.py:681: ConvergenceWarning: Objective did not converge. You might want to increase the number of iterations. Duality gap: 2.984278742364566, tolerance: 0.11006808741992159\n",
      "  model = cd_fast.enet_coordinate_descent_gram(\n",
      "/Users/a14702/Library/CloudStorage/OneDrive-GeorgiaInstituteofTechnology/Desktop/new_env/new_env/lib/python3.12/site-packages/sklearn/linear_model/_coordinate_descent.py:681: ConvergenceWarning: Objective did not converge. You might want to increase the number of iterations. Duality gap: 3.1658244845920365, tolerance: 0.11716035816709414\n",
      "  model = cd_fast.enet_coordinate_descent_gram(\n",
      "/Users/a14702/Library/CloudStorage/OneDrive-GeorgiaInstituteofTechnology/Desktop/new_env/new_env/lib/python3.12/site-packages/sklearn/linear_model/_coordinate_descent.py:681: ConvergenceWarning: Objective did not converge. You might want to increase the number of iterations. Duality gap: 0.9325264904324087, tolerance: 0.11496805063813355\n",
      "  model = cd_fast.enet_coordinate_descent_gram(\n",
      "/Users/a14702/Library/CloudStorage/OneDrive-GeorgiaInstituteofTechnology/Desktop/new_env/new_env/lib/python3.12/site-packages/sklearn/linear_model/_coordinate_descent.py:681: ConvergenceWarning: Objective did not converge. You might want to increase the number of iterations. Duality gap: 1.1344432619941927, tolerance: 0.11690744789248407\n",
      "  model = cd_fast.enet_coordinate_descent_gram(\n",
      "/Users/a14702/Library/CloudStorage/OneDrive-GeorgiaInstituteofTechnology/Desktop/new_env/new_env/lib/python3.12/site-packages/sklearn/linear_model/_coordinate_descent.py:681: ConvergenceWarning: Objective did not converge. You might want to increase the number of iterations. Duality gap: 4.880764758927562, tolerance: 0.11567574604532879\n",
      "  model = cd_fast.enet_coordinate_descent_gram(\n",
      "/Users/a14702/Library/CloudStorage/OneDrive-GeorgiaInstituteofTechnology/Desktop/new_env/new_env/lib/python3.12/site-packages/sklearn/linear_model/_coordinate_descent.py:681: ConvergenceWarning: Objective did not converge. You might want to increase the number of iterations. Duality gap: 3.0089992065230433, tolerance: 0.11006808741992159\n",
      "  model = cd_fast.enet_coordinate_descent_gram(\n",
      "/Users/a14702/Library/CloudStorage/OneDrive-GeorgiaInstituteofTechnology/Desktop/new_env/new_env/lib/python3.12/site-packages/sklearn/linear_model/_coordinate_descent.py:681: ConvergenceWarning: Objective did not converge. You might want to increase the number of iterations. Duality gap: 2.8333224439271802, tolerance: 0.11716035816709414\n",
      "  model = cd_fast.enet_coordinate_descent_gram(\n",
      "/Users/a14702/Library/CloudStorage/OneDrive-GeorgiaInstituteofTechnology/Desktop/new_env/new_env/lib/python3.12/site-packages/sklearn/linear_model/_coordinate_descent.py:681: ConvergenceWarning: Objective did not converge. You might want to increase the number of iterations. Duality gap: 0.24740466327166644, tolerance: 0.11496805063813355\n",
      "  model = cd_fast.enet_coordinate_descent_gram(\n"
     ]
    },
    {
     "name": "stdout",
     "output_type": "stream",
     "text": [
      "Train error:  1.378048958866362\n",
      "Test error:  1.8561128572008134\n"
     ]
    },
    {
     "name": "stderr",
     "output_type": "stream",
     "text": [
      "/Users/a14702/Library/CloudStorage/OneDrive-GeorgiaInstituteofTechnology/Desktop/new_env/new_env/lib/python3.12/site-packages/sklearn/linear_model/_coordinate_descent.py:681: ConvergenceWarning: Objective did not converge. You might want to increase the number of iterations. Duality gap: 0.8418909984373784, tolerance: 0.11690744789248407\n",
      "  model = cd_fast.enet_coordinate_descent_gram(\n"
     ]
    }
   ],
   "source": [
    "### Elastic Net Model training\n",
    "from sklearn.linear_model import ElasticNetCV\n",
    "\n",
    "X_train, X_test, y_train, y_test = train_test_split(df_processed, y, test_size=0.01, random_state=10, shuffle=True)\n",
    "\n",
    "extra_value_train = X_train[\"MiscVal\"]\n",
    "X_train = X_train.drop(\"MiscVal\", axis=1)\n",
    "\n",
    "extra_value_test = X_test[\"MiscVal\"]\n",
    "X_test = X_test.drop(\"MiscVal\", axis=1)\n",
    "\n",
    "# lf1 = LassoCV(alphas = np.logspace(-5, 1, 10), cv=10, random_state=42)\n",
    "\n",
    "lf1 = ElasticNetCV(alphas=np.logspace(-5, 1, 10), \n",
    "                   l1_ratio=np.linspace(0.1, 1.0, 10),  # l1_ratio controls the mix of Lasso and Ridge\n",
    "                   cv=5, \n",
    "                   random_state=42)\n",
    "\n",
    "lf1.fit(X_train, y_train)\n",
    "\n",
    "# back transform and add misc value\n",
    "yhat_test = (lf1.predict(X_test)*std) + mean # unscale\n",
    "yhat_test = np.exp(yhat_test) + extra_value_test # take exp and add misc val\n",
    "y_test = y_test*std + mean\n",
    "y_test = np.exp(y_test)\n",
    "\n",
    "yhat_train = (lf1.predict(X_train)*std) + mean\n",
    "yhat_train = np.exp(yhat_train) + extra_value_train\n",
    "y_train = y_train*std + mean\n",
    "y_train = np.exp(y_train)\n",
    "\n",
    "y_lasso_test = yhat_test\n",
    "\n",
    "print(\"Train error: \", mse(yhat_train, y_train))\n",
    "print(\"Test error: \", mse(yhat_test, y_test))"
   ]
  },
  {
   "cell_type": "code",
   "execution_count": 560,
   "metadata": {},
   "outputs": [
    {
     "data": {
      "text/plain": [
       "['model_elastic_net.joblib']"
      ]
     },
     "execution_count": 560,
     "metadata": {},
     "output_type": "execute_result"
    }
   ],
   "source": [
    "# save the lasso model\n",
    "from joblib import dump\n",
    "dump(lf1, \"model_elastic_net.joblib\")"
   ]
  },
  {
   "cell_type": "code",
   "execution_count": 561,
   "metadata": {},
   "outputs": [
    {
     "name": "stdout",
     "output_type": "stream",
     "text": [
      "Train error:  1.6576264769375493\n",
      "Test error:  2.192965732609522\n"
     ]
    }
   ],
   "source": [
    "### Random Forest Regressor model training with just signifcant variables identified by Lasso\n",
    "\n",
    "from sklearn.ensemble import RandomForestRegressor\n",
    "from sklearn.model_selection import GridSearchCV\n",
    "\n",
    "y_train = (y_train-mean)/std\n",
    "y_test = (y_test-mean)/std\n",
    "\n",
    "coef = list(lf1.coef_)\n",
    "sig_var = [i for i, j in zip(all_features, coef) if j!=0] # non-zero, aka, signifcant variables\n",
    "\n",
    "X_train_tree = X_train[sig_var]\n",
    "X_test_tree = X_test[sig_var]\n",
    "\n",
    "model_rf = RandomForestRegressor(random_state=42)\n",
    "\n",
    "# hyperparameter tuning\n",
    "grid = {\n",
    "    \"n_estimators\" : [100, 150, 200],\n",
    "    'max_depth': [3, 4, 5],\n",
    "    \"min_samples_split\": [15, 20, 30]\n",
    "}\n",
    "\n",
    "search = GridSearchCV(estimator=model_rf, param_grid=grid, cv=5, scoring=\"neg_mean_squared_error\")\n",
    "\n",
    "search.fit(X_train_tree, y_train)\n",
    "\n",
    "model_rf_best = search.best_estimator_\n",
    "\n",
    "yhat_test = model_rf_best.predict(X_test_tree)*std + mean\n",
    "yhat_test = yhat_test + extra_value_test\n",
    "y_test = y_test*std + mean\n",
    "\n",
    "yhat_train = (model_rf_best.predict(X_train_tree)*std) + mean\n",
    "yhat_train = yhat_train + extra_value_train\n",
    "y_train = y_train*std + mean\n",
    "\n",
    "print(\"Train error: \", mse(yhat_train, y_train))\n",
    "print(\"Test error: \", mse(yhat_test, y_test))\n",
    "\n",
    "y_rf_test = yhat_test\n",
    "\n",
    "# plt.scatter(yhat, y_test)\n",
    "# min_val = min(yhat.min(), y_test.min())\n",
    "# max_val = max(yhat.max(), y_test.max())\n",
    "# plt.plot([min_val, max_val], [min_val, max_val], 'r--', label=\"y = x\")\n"
   ]
  },
  {
   "cell_type": "code",
   "execution_count": 562,
   "metadata": {},
   "outputs": [
    {
     "data": {
      "text/plain": [
       "['model_random_forest.joblib']"
      ]
     },
     "execution_count": 562,
     "metadata": {},
     "output_type": "execute_result"
    }
   ],
   "source": [
    "# save RF model\n",
    "from joblib import dump\n",
    "dump(model_rf_best, \"model_random_forest.joblib\")"
   ]
  },
  {
   "cell_type": "code",
   "execution_count": 563,
   "metadata": {},
   "outputs": [
    {
     "data": {
      "text/plain": [
       "'### XG boost model training with just signifcant variables identified by Lasso\\n\\nfrom xgboost import XGBRegressor\\nfrom sklearn.model_selection import GridSearchCV\\n# from sklearn.metrics import mean_squared_error as mse\\n\\ny_train = (y_train-mean)/std\\ny_test = (y_test-mean)/std\\n\\ncoef = list(lf1.coef_)\\nsig_var = [i for i, j in zip(all_features, coef) if j!=0]\\n\\nX_train_tree = X_train[sig_var]\\nX_test_tree = X_test[sig_var]\\n\\n# Initialize the XGBoost Regressor\\nmodel_xgb = XGBRegressor(n_estimators=200, max_depth=3, learning_rate=0.1, random_state=42)\\n\\n# Fit the model\\nmodel_xgb.fit(X_train_tree, y_train)\\n\\nyhat_test = model_xgb.predict(X_test_tree)*std + mean\\nyhat_test = yhat_test + extra_value_test\\ny_test = y_test*std + mean\\n\\nyhat_train = model_xgb.predict(X_train_tree)*std + mean\\nyhat_train = yhat_train + extra_value_train\\ny_train = y_train*std + mean\\n\\nprint(\"Train error: \", mse(yhat_train, y_train))\\nprint(\"Test error: \", mse(yhat_test, y_test))\\n\\ny_xgb_test = yhat_test\\n\\n# plt.scatter(yhat, y_test)\\n# min_val = min(yhat.min(), y_test.min())\\n# max_val = max(yhat.max(), y_test.max())\\n# plt.plot([min_val, max_val], [min_val, max_val], \\'r--\\', label=\"y = x\")'"
      ]
     },
     "execution_count": 563,
     "metadata": {},
     "output_type": "execute_result"
    }
   ],
   "source": [
    "\"\"\"### XG boost model training with just signifcant variables identified by Lasso\n",
    "\n",
    "from xgboost import XGBRegressor\n",
    "from sklearn.model_selection import GridSearchCV\n",
    "# from sklearn.metrics import mean_squared_error as mse\n",
    "\n",
    "y_train = (y_train-mean)/std\n",
    "y_test = (y_test-mean)/std\n",
    "\n",
    "coef = list(lf1.coef_)\n",
    "sig_var = [i for i, j in zip(all_features, coef) if j!=0]\n",
    "\n",
    "X_train_tree = X_train[sig_var]\n",
    "X_test_tree = X_test[sig_var]\n",
    "\n",
    "# Initialize the XGBoost Regressor\n",
    "model_xgb = XGBRegressor(n_estimators=200, max_depth=3, learning_rate=0.1, random_state=42)\n",
    "\n",
    "# Fit the model\n",
    "model_xgb.fit(X_train_tree, y_train)\n",
    "\n",
    "yhat_test = model_xgb.predict(X_test_tree)*std + mean\n",
    "yhat_test = yhat_test + extra_value_test\n",
    "y_test = y_test*std + mean\n",
    "\n",
    "yhat_train = model_xgb.predict(X_train_tree)*std + mean\n",
    "yhat_train = yhat_train + extra_value_train\n",
    "y_train = y_train*std + mean\n",
    "\n",
    "print(\"Train error: \", mse(yhat_train, y_train))\n",
    "print(\"Test error: \", mse(yhat_test, y_test))\n",
    "\n",
    "y_xgb_test = yhat_test\n",
    "\n",
    "# plt.scatter(yhat, y_test)\n",
    "# min_val = min(yhat.min(), y_test.min())\n",
    "# max_val = max(yhat.max(), y_test.max())\n",
    "# plt.plot([min_val, max_val], [min_val, max_val], 'r--', label=\"y = x\")\"\"\""
   ]
  },
  {
   "cell_type": "code",
   "execution_count": 564,
   "metadata": {},
   "outputs": [
    {
     "data": {
      "text/plain": [
       "'## Save the XGB model\\nfrom joblib import dump\\ndump(model_xgb, \"model_xgb.joblib\")'"
      ]
     },
     "execution_count": 564,
     "metadata": {},
     "output_type": "execute_result"
    }
   ],
   "source": [
    "\"\"\"## Save the XGB model\n",
    "from joblib import dump\n",
    "dump(model_xgb, \"model_xgb.joblib\")\"\"\""
   ]
  },
  {
   "cell_type": "code",
   "execution_count": 565,
   "metadata": {},
   "outputs": [
    {
     "name": "stdout",
     "output_type": "stream",
     "text": [
      "Train error:  0.8189894414012964\n",
      "Test error:  1.1251674153127773\n"
     ]
    }
   ],
   "source": [
    "from sklearn.ensemble import GradientBoostingRegressor\n",
    "\n",
    "y_train = (y_train-mean)/std\n",
    "y_test = (y_test-mean)/std\n",
    "\n",
    "coef = list(lf1.coef_)\n",
    "sig_var = [i for i, j in zip(all_features, coef) if j!=0]\n",
    "\n",
    "X_train_tree = X_train[sig_var]\n",
    "X_test_tree = X_test[sig_var]\n",
    "\n",
    "model_gb = GradientBoostingRegressor(n_estimators=100, learning_rate=0.1, max_depth=4)\n",
    "model_gb.fit(X_train_tree, y_train)\n",
    "\n",
    "yhat_test = model_gb.predict(X_test_tree)*std + mean\n",
    "yhat_test = yhat_test + extra_value_test\n",
    "y_test = y_test*std + mean\n",
    "\n",
    "yhat_train = model_gb.predict(X_train_tree)*std + mean\n",
    "yhat_train = yhat_train + extra_value_train\n",
    "y_train = y_train*std + mean\n",
    "\n",
    "print(\"Train error: \", mse(yhat_train, y_train))\n",
    "print(\"Test error: \", mse(yhat_test, y_test))\n",
    "\n",
    "y_gb_test = yhat_test"
   ]
  },
  {
   "cell_type": "code",
   "execution_count": 566,
   "metadata": {},
   "outputs": [
    {
     "data": {
      "text/plain": [
       "['model_gb.joblib']"
      ]
     },
     "execution_count": 566,
     "metadata": {},
     "output_type": "execute_result"
    }
   ],
   "source": [
    "## Save the XGB model\n",
    "from joblib import dump\n",
    "dump(model_gb, \"model_gb.joblib\")"
   ]
  },
  {
   "cell_type": "code",
   "execution_count": 567,
   "metadata": {},
   "outputs": [
    {
     "name": "stdout",
     "output_type": "stream",
     "text": [
      "1.3757987579319737\n"
     ]
    }
   ],
   "source": [
    "## Use the weightage avg from all the models to predcted the final value\n",
    "yhat_test = (0.5*y_lasso_test + 0.0*y_rf_test + 0.5*y_gb_test)\n",
    "print(mse(yhat_test, y_test))"
   ]
  },
  {
   "cell_type": "code",
   "execution_count": 568,
   "metadata": {},
   "outputs": [
    {
     "data": {
      "text/plain": [
       "Text(0, 0.5, 'True Value')"
      ]
     },
     "execution_count": 568,
     "metadata": {},
     "output_type": "execute_result"
    },
    {
     "data": {
      "image/png": "[encoded data removed]",
      "text/plain": [
       "<Figure size 640x480 with 1 Axes>"
      ]
     },
     "metadata": {},
     "output_type": "display_data"
    }
   ],
   "source": [
    "plt.scatter(yhat_test, y_test)\n",
    "min_val = min(yhat_test.min(), y_test.min())\n",
    "max_val = max(yhat_test.max(), y_test.max())\n",
    "plt.plot([min_val, max_val], [min_val, max_val], 'r--', label=\"y = x\")\n",
    "plt.xlabel(\"Predicted Value\")\n",
    "plt.ylabel(\"True Value\")"
   ]
  },
  {
   "cell_type": "markdown",
   "metadata": {},
   "source": [
    "#### Additional model and analysis that was not used for prediction"
   ]
  },
  {
   "cell_type": "code",
   "execution_count": 570,
   "metadata": {},
   "outputs": [
    {
     "name": "stdout",
     "output_type": "stream",
     "text": [
      "inf\n"
     ]
    },
    {
     "name": "stderr",
     "output_type": "stream",
     "text": [
      "/Users/a14702/Library/CloudStorage/OneDrive-GeorgiaInstituteofTechnology/Desktop/new_env/new_env/lib/python3.12/site-packages/pandas/core/arraylike.py:399: RuntimeWarning: overflow encountered in exp\n",
      "  result = getattr(ufunc, method)(*inputs, **kwargs)\n"
     ]
    },
    {
     "data": {
      "image/png": "[encoded data removed]",
      "text/plain": [
       "<Figure size 640x480 with 1 Axes>"
      ]
     },
     "metadata": {},
     "output_type": "display_data"
    }
   ],
   "source": [
    "### Multimodels- two models\n",
    "from sklearn.decomposition import PCA\n",
    "\n",
    "X = df_complete.drop(\"SalePrice\", axis=1)\n",
    "y = df_complete[\"SalePrice\"]\n",
    "\n",
    "preprocessor3 = ColumnTransformer([\n",
    "    (\"onehot\", OneHotEncoder(drop=\"first\"), categorical),\n",
    "    (\"oe\", OrdinalEncoder(), ordinal),\n",
    "    (\"scalar\", StandardScaler(), numerical),\n",
    "    (\"passthrough\", \"passthrough\", pass_through)\n",
    "])\n",
    "\n",
    "X_processed = preprocessor3.fit_transform(X).toarray()\n",
    "\n",
    "categorical_features = preprocessor3.named_transformers_[\"onehot\"].get_feature_names_out(categorical)\n",
    "ordinal_features = preprocessor3.named_transformers_[\"oe\"].get_feature_names_out(ordinal)\n",
    "numerical_features = numerical  # Original names for numerical columns\n",
    "pass_through_features = pass_through\n",
    "all_features = list(categorical_features) + list(ordinal_features) + numerical_features + pass_through_features\n",
    "\n",
    "df_processed = pd.DataFrame(X_processed, columns=all_features)\n",
    "\n",
    "df_processed[\"SalePrice\"] = y.tolist()\n",
    "\n",
    "data_train, data_test = train_test_split(df_processed, test_size=0.2, random_state= 42, shuffle=True)\n",
    "\n",
    "index1 = data_train[\"OverallQual\"]<=5.5\n",
    "index2 = data_train[\"OverallQual\"]>5.5\n",
    "\n",
    "d1 = data_train[index1]\n",
    "d2 = data_train[index2]\n",
    "\n",
    "X1, y1 = d1.drop(\"SalePrice\", axis=1), d1[\"SalePrice\"]\n",
    "X1 = X1.drop(\"MiscVal\", axis=1)\n",
    "lf1 = LassoCV(alphas = np.logspace(-3, 1, 50), cv=5, random_state=42)\n",
    "lf1.fit(X1, np.log(y1))\n",
    "\n",
    "X2, y2 = d2.drop(\"SalePrice\", axis=1), d2[\"SalePrice\"]\n",
    "X2 = X2.drop(\"MiscVal\", axis=1)\n",
    "\n",
    "pca = PCA(n_components=0.9)  # Retain 95% of the variance\n",
    "X2 = pca.fit_transform(X2)\n",
    "\n",
    "model_rf = RandomForestRegressor(random_state=42)\n",
    "\n",
    "grid = {\n",
    "    \"n_estimators\" : [100, 200, 300],\n",
    "    'max_depth': [None, 5 , 10],\n",
    "    \"min_samples_split\": [15, 20, 30]\n",
    "}\n",
    "\n",
    "search = GridSearchCV(estimator=model_rf, param_grid=grid, cv=5, scoring=\"neg_mean_squared_error\")\n",
    "\n",
    "search.fit(X2, y2)\n",
    "\n",
    "lf2 = search.best_estimator_\n",
    "\n",
    "index1 = data_test[\"OverallQual\"]<=5.5\n",
    "index2 = data_test[\"OverallQual\"]>5.5\n",
    "\n",
    "d1 = data_test[index1]\n",
    "d2 = data_test[index2]\n",
    "\n",
    "X1, y1 = d1.drop(\"SalePrice\", axis=1), d1[\"SalePrice\"]\n",
    "X2, y2 = d2.drop(\"SalePrice\", axis=1), d2[\"SalePrice\"]\n",
    "\n",
    "misc_val1 = X1[\"MiscVal\"]\n",
    "misc_val2 = X2[\"MiscVal\"]\n",
    "\n",
    "X1 = X1.drop(\"MiscVal\", axis=1)\n",
    "X2 = X2.drop(\"MiscVal\", axis=1)\n",
    "X2 = pca.transform(X2)\n",
    "\n",
    "yh1 = np.exp(lf1.predict(X1)) + misc_val1\n",
    "yh2 = lf2.predict(X2) + misc_val2\n",
    "\n",
    "plt.scatter(yh1, y1)\n",
    "plt.scatter(yh2, y2)\n",
    "plt.plot([50000, 700000], [50000, 700000], 'r--', label=\"y = x\")\n",
    "\n",
    "ms = mse(np.exp(yh1), y1) + mse(np.exp(yh2), y2)\n",
    "print(ms)"
   ]
  },
  {
   "cell_type": "code",
   "execution_count": 571,
   "metadata": {},
   "outputs": [
    {
     "name": "stdout",
     "output_type": "stream",
     "text": [
      "3.710241521506185\n"
     ]
    }
   ],
   "source": [
    "ms = mse(yh1, y1) + mse(yh2, y2)\n",
    "print(ms)"
   ]
  },
  {
   "cell_type": "code",
   "execution_count": 572,
   "metadata": {},
   "outputs": [
    {
     "data": {
      "text/plain": [
       "['two_model_lasso.joblib']"
      ]
     },
     "execution_count": 572,
     "metadata": {},
     "output_type": "execute_result"
    }
   ],
   "source": [
    "from joblib import dump, load\n",
    "dump(lf1, \"two_model_lasso.joblib\")"
   ]
  }
 ],
 "metadata": {
  "kernelspec": {
   "display_name": "new_env",
   "language": "python",
   "name": "python3"
  },
  "language_info": {
   "codemirror_mode": {
    "name": "ipython",
    "version": 3
   },
   "file_extension": ".py",
   "mimetype": "text/x-python",
   "name": "python",
   "nbconvert_exporter": "python",
   "pygments_lexer": "ipython3",
   "version": "3.12.6"
  }
 },
 "nbformat": 4,
 "nbformat_minor": 2
}
