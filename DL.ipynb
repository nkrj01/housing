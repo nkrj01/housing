{
 "cells": [
  {
   "cell_type": "code",
   "execution_count": 14,
   "metadata": {},
   "outputs": [],
   "source": [
    "import math\n",
    "import numpy as np\n",
    "\n",
    "def sigmoid(x):\n",
    "    return 1 / (1 + math.exp(-x))"
   ]
  },
  {
   "cell_type": "code",
   "execution_count": 15,
   "metadata": {},
   "outputs": [],
   "source": [
    "x1, x2, x3, x4, x5, x6 = -1, 3, 4, 5, -5, 7\n",
    "\n",
    "g = 5*(x2*x3/x4) - 5*x5 - 5*x6\n",
    "\n",
    "h = math.log(g) + 0.5\n",
    "\n",
    "f = sigmoid(h)\n",
    "\n",
    "dg = np.array([0, 5*(x3/x4), 5*(x2/x4), -5*(x2*x3/x4**2), -5, -5])\n",
    "\n",
    "dh = 1/g\n",
    "\n",
    "df = sigmoid(h)*(1-sigmoid(h))*dh*dg"
   ]
  },
  {
   "cell_type": "code",
   "execution_count": 16,
   "metadata": {},
   "outputs": [
    {
     "data": {
      "text/plain": [
       "array([ 0.        ,  0.35709772,  0.26782329, -0.21425863, -0.44637215,\n",
       "       -0.44637215])"
      ]
     },
     "execution_count": 16,
     "metadata": {},
     "output_type": "execute_result"
    }
   ],
   "source": [
    "df"
   ]
  },
  {
   "cell_type": "markdown",
   "metadata": {},
   "source": [
    "#### Answer D is correct."
   ]
  }
 ],
 "metadata": {
  "kernelspec": {
   "display_name": "new_env",
   "language": "python",
   "name": "python3"
  },
  "language_info": {
   "codemirror_mode": {
    "name": "ipython",
    "version": 3
   },
   "file_extension": ".py",
   "mimetype": "text/x-python",
   "name": "python",
   "nbconvert_exporter": "python",
   "pygments_lexer": "ipython3",
   "version": "3.12.6"
  }
 },
 "nbformat": 4,
 "nbformat_minor": 2
}
