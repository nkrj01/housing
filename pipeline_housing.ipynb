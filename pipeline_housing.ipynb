{
 "cells": [
  {
   "cell_type": "markdown",
   "metadata": {},
   "source": [
    "#### Imputing misssing values and dropping columns that are not relevant"
   ]
  },
  {
   "cell_type": "code",
   "execution_count": 1,
   "metadata": {},
   "outputs": [],
   "source": [
    "from sklearn.base import BaseEstimator, TransformerMixin\n",
    "from sklearn.impute import SimpleImputer\n",
    "from sklearn.preprocessing import OneHotEncoder, StandardScaler\n",
    "from sklearn.compose import ColumnTransformer\n",
    "import pandas as pd\n",
    "import numpy as np\n",
    "import joblib\n",
    "\n",
    "class MissingValueHandling(BaseEstimator, TransformerMixin):\n",
    "    def _init__(self):\n",
    "        pass\n",
    "\n",
    "    def fit(self, X):\n",
    "        return self\n",
    "\n",
    "    def transform(self, X):\n",
    "        X_imputed = X.copy(deep=True)\n",
    "\n",
    "        X_imputed.drop([\"PoolQC\", \"Alley\", \"Id\", \"MiscFeature\"], axis=1, inplace=True)\n",
    "\n",
    "        index_impute = X[\"GarageYrBlt\"].isna()\n",
    "        impute_values = X.loc[index_impute, \"YearBuilt\"]\n",
    "        X_imputed.loc[index_impute, \"GarageYrBlt\"] = impute_values\n",
    "\n",
    "        variable_type = pd.read_excel(\"variable category.xlsx\")\n",
    "        var = variable_type[\"variable\"]\n",
    "        type = variable_type[\"type\"]\n",
    "\n",
    "        numerical = [i for i, j in zip(var, type) if j==\"N\"]\n",
    "        numerical.remove(\"LotFrontage\")\n",
    "        numerical.remove(\"GarageYrBlt\")\n",
    "        categorical = [i for i, j in zip(var, type) if j==\"C\"]\n",
    "        ordinal = [i for i, j in zip(var, type) if j==\"O\"]\n",
    "        pass_through = [\"LotFrontage\", \"MiscVal\", \"GarageYrBlt\"]\n",
    "\n",
    "        preprocessor = joblib.load(\"simple_imputers.joblib\")\n",
    "        \n",
    "        # Apply transformations\n",
    "        df_imputed = preprocessor.transform(X_imputed)\n",
    "\n",
    "        # Convert back to DataFrame with column names\n",
    "        df_imputed = pd.DataFrame(df_imputed, columns=numerical + categorical + ordinal + pass_through)\n",
    "\n",
    "        return df_imputed"
   ]
  },
  {
   "cell_type": "markdown",
   "metadata": {},
   "source": [
    "#### Column transformer (pre-processor) for imputing LotFrontage missing values"
   ]
  },
  {
   "cell_type": "code",
   "execution_count": 2,
   "metadata": {},
   "outputs": [],
   "source": [
    "class TransformerLotFrontage(BaseEstimator, TransformerMixin):\n",
    "    def _init__(self):\n",
    "        pass\n",
    "\n",
    "    def fit(self, X):\n",
    "        cols = [\"MSSubClass\", \"MSZoning\", \"LotFrontage\", \"LotArea\", \"Street\", \"LotShape\", \"LandContour\"]\n",
    "        self.X_short = X[cols]\n",
    "        # self.lot_frontage = self.X_short[\"LotFrontage\"]\n",
    "        self.X_short = self.X_short.drop(\"LotFrontage\", axis=1)\n",
    "        self.numerical = [\"LotArea\"]\n",
    "        self.categorical = self.X_short.columns.to_list()\n",
    "        self.categorical.remove(\"LotArea\")\n",
    "        self.preprocessor = joblib.load(\"lot_frontage_transformer.joblib\")\n",
    "        return self\n",
    "\n",
    "    def transform(self, X):\n",
    "        X_processed = self.preprocessor.transform(self.X_short).toarray()\n",
    "        categorical_features = self.preprocessor.named_transformers_[\"onehot\"].get_feature_names_out(self.categorical)\n",
    "        numerical_features = self.numerical\n",
    "        self.df_processed = pd.DataFrame(X_processed, columns=list(categorical_features)+numerical_features)\n",
    "        return self.df_processed"
   ]
  },
  {
   "cell_type": "markdown",
   "metadata": {},
   "source": [
    "#### Model for Imputing LotFrontage Missing Values"
   ]
  },
  {
   "cell_type": "code",
   "execution_count": 3,
   "metadata": {},
   "outputs": [],
   "source": [
    "class ImputerLotFrontage(BaseEstimator, TransformerMixin):\n",
    "    def _init__(self):\n",
    "        pass\n",
    "\n",
    "    def fit(self, X):\n",
    "\n",
    "        try:\n",
    "            self.y_true = X[\"SalePrice\"]\n",
    "        except:\n",
    "            pass\n",
    "        \n",
    "        self.lf = joblib.load(\"imputation.joblib\")\n",
    "\n",
    "        enc = TransformerLotFrontage()\n",
    "        self.X_short = enc.fit_transform(X)\n",
    "        \n",
    "        # self.total_features = X.columns.to_list()\n",
    "        self.sig_var = pd.read_excel(\"sig_var_impute.xlsx\")[\"sig_var\"].to_list()\n",
    "\n",
    "        return self\n",
    "    \n",
    "    def transform(self, X):\n",
    "        index_impute = X[\"LotFrontage\"].isna()\n",
    "        X_impute = self.X_short[index_impute]\n",
    "        X_impute = X_impute[self.sig_var]\n",
    "        y_pred = self.lf.predict(X_impute)\n",
    "        X_complete = X.copy(deep=True)\n",
    "        X_complete.loc[index_impute, \"LotFrontage\"] = y_pred\n",
    "        return X_complete"
   ]
  },
  {
   "cell_type": "markdown",
   "metadata": {},
   "source": [
    "#### Pre-processor for SalePrice model"
   ]
  },
  {
   "cell_type": "code",
   "execution_count": 4,
   "metadata": {},
   "outputs": [],
   "source": [
    "class TransfromerSalePrice(BaseEstimator, TransformerMixin):\n",
    "    def _init__(self):\n",
    "        pass\n",
    "\n",
    "    def fit(self, X):\n",
    "\n",
    "        variable_type = pd.read_excel(\"variable category.xlsx\")\n",
    "        var = variable_type[\"variable\"]\n",
    "        type = variable_type[\"type\"]\n",
    "\n",
    "        numerical = [i for i, j in zip(var, type) if j==\"N\"]\n",
    "        categorical = [i for i, j in zip(var, type) if j==\"C\"]\n",
    "        ordinal = [i for i, j in zip(var, type) if j==\"O\"]\n",
    "        pass_through = [i for i, j in zip(var, type) if j==\"PT\"]\n",
    "        \n",
    "        self.preprocessor = joblib.load(\"sale_price_transformer.joblib\")\n",
    "\n",
    "        categorical_features = self.preprocessor.named_transformers_[\"onehot\"].get_feature_names_out(categorical)\n",
    "        ordinal_features = self.preprocessor.named_transformers_[\"oe\"].get_feature_names_out(ordinal)\n",
    "        numerical_features = numerical  # Original names for numerical columns\n",
    "        pass_through_features = pass_through\n",
    "        self.all_features = list(categorical_features) + list(ordinal_features) + numerical_features + pass_through_features\n",
    "        \n",
    "        return self\n",
    "    \n",
    "    def transform(self, X):\n",
    "   \n",
    "        arr = self.preprocessor.transform(X).toarray()\n",
    "        X_transformed = pd.DataFrame(data=arr, columns=self.all_features)\n",
    "        return X_transformed"
   ]
  },
  {
   "cell_type": "markdown",
   "metadata": {},
   "source": [
    "####  Elastic Net Model for SalePrice prediction"
   ]
  },
  {
   "cell_type": "code",
   "execution_count": 5,
   "metadata": {},
   "outputs": [],
   "source": [
    "class ElasticNetModel(BaseEstimator, TransformerMixin):\n",
    "    def _init__(self):\n",
    "        pass\n",
    "\n",
    "    def fit(self, X):\n",
    "\n",
    "        self.model = joblib.load(\"model_elastic_net.joblib\")\n",
    "        self.X_transformed = X.copy(deep=True)\n",
    "        self.misc_val = self.X_transformed[\"MiscVal\"].reset_index(drop=True)\n",
    "        self.X_transformed = self.X_transformed.drop(\"MiscVal\", axis=1)\n",
    "        self.mean = 12.013\n",
    "        self.std = 0.386\n",
    "        \n",
    "        return self\n",
    "    \n",
    "    def transform(self, X):\n",
    "        y_pred = self.model.predict(self.X_transformed)\n",
    "        y_pred = (y_pred*self.std) + self.mean\n",
    "        y_pred = np.exp(y_pred) + self.misc_val.to_numpy()\n",
    "        y_pred = y_pred.reshape(-1, 1)\n",
    "        return y_pred"
   ]
  },
  {
   "cell_type": "markdown",
   "metadata": {},
   "source": [
    "####  Random Forest Model for SalePrice prediction"
   ]
  },
  {
   "cell_type": "code",
   "execution_count": 6,
   "metadata": {},
   "outputs": [],
   "source": [
    "class ModelRandomForest(BaseEstimator, TransformerMixin):\n",
    "    def _init__(self):\n",
    "        pass\n",
    "\n",
    "    def fit(self, X):\n",
    "\n",
    "        model_lasso = joblib.load(\"model_elastic_net.joblib\")\n",
    "\n",
    "        self.X_transformed = X.copy(deep=True)\n",
    "        self.misc_val = self.X_transformed[\"MiscVal\"].reset_index(drop=True)\n",
    "        self.X_transformed = self.X_transformed.drop(\"MiscVal\", axis=1)\n",
    "        \n",
    "        coef = list(model_lasso.coef_)\n",
    "        all_features = self.X_transformed.columns.to_list()\n",
    "        self.sig_var = [i for i, j in zip(all_features, coef) if j!=0]\n",
    "        self.mean = 12.013\n",
    "        self.std = 0.386\n",
    "\n",
    "        return self\n",
    "    \n",
    "    def transform(self, X):\n",
    "        self.X_transformed = self.X_transformed[self.sig_var]\n",
    "        model_rf = joblib.load(\"model_random_forest.joblib\")\n",
    "        y_pred = model_rf.predict(self.X_transformed)\n",
    "        y_pred = (y_pred*self.std) + self.mean\n",
    "        y_pred = y_pred + self.misc_val.to_numpy()\n",
    "        y_pred = y_pred.reshape(-1, 1)\n",
    "        return y_pred"
   ]
  },
  {
   "cell_type": "markdown",
   "metadata": {},
   "source": [
    "####  Gradient boost Model for SalePrice prediction"
   ]
  },
  {
   "cell_type": "code",
   "execution_count": 7,
   "metadata": {},
   "outputs": [],
   "source": [
    "class ModelGB(BaseEstimator, TransformerMixin):\n",
    "    def _init__(self):\n",
    "        pass\n",
    "\n",
    "    def fit(self, X):\n",
    "\n",
    "        model_lasso = joblib.load(\"model_elastic_net.joblib\")\n",
    "\n",
    "        self.X_transformed = X.copy(deep=True)\n",
    "        self.misc_val = self.X_transformed[\"MiscVal\"].reset_index(drop=True)\n",
    "        self.X_transformed = self.X_transformed.drop(\"MiscVal\", axis=1)\n",
    "        \n",
    "        coef = list(model_lasso.coef_)\n",
    "        all_features = self.X_transformed.columns.to_list()\n",
    "        self.sig_var = [i for i, j in zip(all_features, coef) if j!=0]\n",
    "        self.mean = 12.013\n",
    "        self.std = 0.386\n",
    "\n",
    "        return self\n",
    "    \n",
    "    def transform(self, X):\n",
    "        self.X_transformed = self.X_transformed[self.sig_var]\n",
    "        model_rf = joblib.load(\"model_gb.joblib\")\n",
    "        y_pred = model_rf.predict(self.X_transformed)\n",
    "        y_pred = (y_pred*self.std) + self.mean\n",
    "        y_pred = y_pred + self.misc_val.to_numpy()\n",
    "        y_pred = y_pred.reshape(-1, 1)\n",
    "        return y_pred"
   ]
  },
  {
   "cell_type": "code",
   "execution_count": 8,
   "metadata": {},
   "outputs": [],
   "source": [
    "class WeightedAverageEnsemble(BaseEstimator, TransformerMixin):\n",
    "    def __init__(self, weights):\n",
    "        self.weights = weights\n",
    "\n",
    "    def fit(self, X, y=None):\n",
    "        return self\n",
    "\n",
    "    def transform(self, X):\n",
    "        return np.average(X, axis=1, weights=self.weights)"
   ]
  },
  {
   "cell_type": "markdown",
   "metadata": {},
   "source": [
    "#### Building pipeline for prediction"
   ]
  },
  {
   "cell_type": "code",
   "execution_count": 9,
   "metadata": {},
   "outputs": [
    {
     "name": "stderr",
     "output_type": "stream",
     "text": [
      "/Users/a14702/Library/CloudStorage/OneDrive-GeorgiaInstituteofTechnology/Desktop/new_env/new_env/lib/python3.12/site-packages/sklearn/preprocessing/_encoders.py:246: UserWarning: Found unknown categories in columns [0, 1] during transform. These unknown categories will be encoded as all zeros\n",
      "  warnings.warn(\n",
      "/Users/a14702/Library/CloudStorage/OneDrive-GeorgiaInstituteofTechnology/Desktop/new_env/new_env/lib/python3.12/site-packages/sklearn/preprocessing/_encoders.py:246: UserWarning: Found unknown categories in columns [0, 1, 5, 15, 16, 30, 31, 39] during transform. These unknown categories will be encoded as all zeros\n",
      "  warnings.warn(\n"
     ]
    }
   ],
   "source": [
    "from sklearn.pipeline import Pipeline\n",
    "\n",
    "df = pd.read_csv(\"test.csv\")\n",
    "\n",
    "data_processing_pipeline = Pipeline(steps=[\n",
    "    (\"missing_value_handler\", MissingValueHandling()),\n",
    "    (\"lot_frontage_imputer\", ImputerLotFrontage()),\n",
    "    (\"sale_price_transform\", TransfromerSalePrice()),\n",
    "])\n",
    "\n",
    "df_processed = data_processing_pipeline.fit_transform(df)\n",
    "\n",
    "# Create an ensemble pipeline\n",
    "ensemble_pipeline = Pipeline(steps=[\n",
    "    (\"model_predictions\", ColumnTransformer([\n",
    "        (\"elastic_net\", ElasticNetModel(), list(df_processed.columns)),\n",
    "        (\"random_forest\", ModelRandomForest(), list(df_processed.columns)), \n",
    "        (\"xgboost\", ModelGB(), list(df_processed.columns)),\n",
    "    ])),\n",
    "    (\"weighted_avg\", WeightedAverageEnsemble(weights=[0.5, 0.0, 0.5]))\n",
    "])\n",
    "\n",
    "prediction = ensemble_pipeline.fit_transform(df_processed)"
   ]
  },
  {
   "cell_type": "markdown",
   "metadata": {},
   "source": [
    "#### Debugging code"
   ]
  },
  {
   "cell_type": "code",
   "execution_count": 10,
   "metadata": {},
   "outputs": [
    {
     "name": "stderr",
     "output_type": "stream",
     "text": [
      "/Users/a14702/Library/CloudStorage/OneDrive-GeorgiaInstituteofTechnology/Desktop/new_env/new_env/lib/python3.12/site-packages/sklearn/preprocessing/_encoders.py:246: UserWarning: Found unknown categories in columns [0, 1] during transform. These unknown categories will be encoded as all zeros\n",
      "  warnings.warn(\n",
      "/Users/a14702/Library/CloudStorage/OneDrive-GeorgiaInstituteofTechnology/Desktop/new_env/new_env/lib/python3.12/site-packages/sklearn/preprocessing/_encoders.py:246: UserWarning: Found unknown categories in columns [0, 1] during transform. These unknown categories will be encoded as all zeros\n",
      "  warnings.warn(\n",
      "/Users/a14702/Library/CloudStorage/OneDrive-GeorgiaInstituteofTechnology/Desktop/new_env/new_env/lib/python3.12/site-packages/sklearn/preprocessing/_encoders.py:246: UserWarning: Found unknown categories in columns [0, 1, 5, 15, 16, 30, 31, 39] during transform. These unknown categories will be encoded as all zeros\n",
      "  warnings.warn(\n"
     ]
    }
   ],
   "source": [
    "df = pd.read_csv(\"test.csv\")\n",
    "# df = df[df[\"SalePrice\"]<480000] ### outlier removal\n",
    "\n",
    "missing_value_handler = MissingValueHandling()\n",
    "df2 = missing_value_handler.fit_transform(df)\n",
    "\n",
    "trans_lf = TransformerLotFrontage()\n",
    "df3 = trans_lf.fit_transform(df2)\n",
    "\n",
    "imputer_lf = ImputerLotFrontage()\n",
    "df4 = imputer_lf.fit_transform(df2)\n",
    "\n",
    "trans_sp = TransfromerSalePrice()\n",
    "df5 = trans_sp.fit_transform(df4)\n",
    "\n",
    "elastic_net_model = ElasticNetModel()\n",
    "yhat_elastic_net = elastic_net_model.fit_transform(df5)\n",
    "\n",
    "rf_model = ModelRandomForest()\n",
    "yhat_rf = rf_model.fit_transform(df5)\n",
    "\n",
    "gb_model = ModelGB()\n",
    "yhat_gb = gb_model.fit_transform(df5)\n",
    "\n",
    "prediction = 0.5*yhat_elastic_net + 0.0*yhat_rf + 0.5*yhat_gb\n",
    "\n",
    "Id = df[\"Id\"]\n",
    "df_pred = pd.DataFrame(Id, columns=[\"Id\"])\n",
    "\n",
    "df_pred[\"SalePrice\"] = prediction\n",
    "\n",
    "df_pred.to_csv(\"submission.csv\", index=False)"
   ]
  },
  {
   "cell_type": "markdown",
   "metadata": {},
   "source": [
    "#### XGB Model not used during the main model"
   ]
  },
  {
   "cell_type": "code",
   "execution_count": 11,
   "metadata": {},
   "outputs": [],
   "source": [
    "class ModelXGB(BaseEstimator, TransformerMixin):\n",
    "    def _init__(self):\n",
    "        pass\n",
    "\n",
    "    def fit(self, X):\n",
    "\n",
    "        model_lasso = joblib.load(\"model_elastic_net.joblib\")\n",
    "\n",
    "        self.X_transformed = X.copy(deep=True)\n",
    "        self.misc_val = self.X_transformed[\"MiscVal\"].reset_index(drop=True)\n",
    "        self.X_transformed = self.X_transformed.drop(\"MiscVal\", axis=1)\n",
    "        \n",
    "        coef = list(model_lasso.coef_)\n",
    "        all_features = self.X_transformed.columns.to_list()\n",
    "        self.sig_var = [i for i, j in zip(all_features, coef) if j!=0]\n",
    "        self.mean = 12.013\n",
    "        self.std = 0.386\n",
    "\n",
    "        return self\n",
    "    \n",
    "    def transform(self, X):\n",
    "        self.X_transformed = self.X_transformed[self.sig_var]\n",
    "        model_rf = joblib.load(\"model_gb.joblib\")\n",
    "        y_pred = model_rf.predict(self.X_transformed)\n",
    "        y_pred = (y_pred*self.std) + self.mean\n",
    "        y_pred = y_pred + self.misc_val.to_numpy()\n",
    "        y_pred = y_pred.reshape(-1, 1)\n",
    "        return y_pred"
   ]
  }
 ],
 "metadata": {
  "kernelspec": {
   "display_name": "new_env",
   "language": "python",
   "name": "python3"
  },
  "language_info": {
   "codemirror_mode": {
    "name": "ipython",
    "version": 3
   },
   "file_extension": ".py",
   "mimetype": "text/x-python",
   "name": "python",
   "nbconvert_exporter": "python",
   "pygments_lexer": "ipython3",
   "version": "3.12.6"
  }
 },
 "nbformat": 4,
 "nbformat_minor": 2
}
